{
 "cells": [
  {
   "cell_type": "code",
   "execution_count": 5,
   "metadata": {},
   "outputs": [],
   "source": [
    "# YouBike2.0臺北市公共自行車即時資訊\n",
    "import requests\n",
    "url = 'https://tcgbusfs.blob.core.windows.net/dotapp/youbike/v2/youbike_immediate.json'\n",
    "try:\n",
    "    response = requests.request('GET',url)\n",
    "    response.raise_for_status()\n",
    "except:\n",
    "    print(\"網路有問題\")\n",
    "else:\n",
    "    if response.status_code == 200:\n",
    "        try:\n",
    "            data = response.json()\n",
    "        except requests.JSONDecodeError:\n",
    "            print(\"無法轉換為josn\")"
   ]
  },
  {
   "cell_type": "code",
   "execution_count": null,
   "metadata": {},
   "outputs": [],
   "source": [
    "data"
   ]
  },
  {
   "cell_type": "code",
   "execution_count": 9,
   "metadata": {},
   "outputs": [
    {
     "ename": "OperationalError",
     "evalue": "near \"IF\": syntax error",
     "output_type": "error",
     "traceback": [
      "\u001b[1;31m---------------------------------------------------------------------------\u001b[0m",
      "\u001b[1;31mOperationalError\u001b[0m                          Traceback (most recent call last)",
      "\u001b[1;32mc:\\Users\\User\\Documents\\Github\\_11209tvdi_python_\\2023_10_18\\lesson19\\lesson19.ipynb 儲存格 3\u001b[0m line \u001b[0;36m4\n\u001b[0;32m      <a href='vscode-notebook-cell:/c%3A/Users/User/Documents/Github/_11209tvdi_python_/2023_10_18/lesson19/lesson19.ipynb#W3sZmlsZQ%3D%3D?line=1'>2</a>\u001b[0m con \u001b[39m=\u001b[39m sqlite3\u001b[39m.\u001b[39mconnect(\u001b[39m\"\u001b[39m\u001b[39mtutorial.db\u001b[39m\u001b[39m\"\u001b[39m)\n\u001b[0;32m      <a href='vscode-notebook-cell:/c%3A/Users/User/Documents/Github/_11209tvdi_python_/2023_10_18/lesson19/lesson19.ipynb#W3sZmlsZQ%3D%3D?line=2'>3</a>\u001b[0m cur \u001b[39m=\u001b[39m con\u001b[39m.\u001b[39mcursor()\n\u001b[1;32m----> <a href='vscode-notebook-cell:/c%3A/Users/User/Documents/Github/_11209tvdi_python_/2023_10_18/lesson19/lesson19.ipynb#W3sZmlsZQ%3D%3D?line=3'>4</a>\u001b[0m con\u001b[39m.\u001b[39;49mexecute(\n\u001b[0;32m      <a href='vscode-notebook-cell:/c%3A/Users/User/Documents/Github/_11209tvdi_python_/2023_10_18/lesson19/lesson19.ipynb#W3sZmlsZQ%3D%3D?line=4'>5</a>\u001b[0m \u001b[39m    \u001b[39;49m\u001b[39m'''\u001b[39;49;00m\n\u001b[0;32m      <a href='vscode-notebook-cell:/c%3A/Users/User/Documents/Github/_11209tvdi_python_/2023_10_18/lesson19/lesson19.ipynb#W3sZmlsZQ%3D%3D?line=5'>6</a>\u001b[0m \u001b[39m    CREATE TABLE 台北市 IF NOT EXISTS(\u001b[39;49;00m\n\u001b[0;32m      <a href='vscode-notebook-cell:/c%3A/Users/User/Documents/Github/_11209tvdi_python_/2023_10_18/lesson19/lesson19.ipynb#W3sZmlsZQ%3D%3D?line=6'>7</a>\u001b[0m \u001b[39m        \"id\"\tINTEGER,\u001b[39;49;00m\n\u001b[0;32m      <a href='vscode-notebook-cell:/c%3A/Users/User/Documents/Github/_11209tvdi_python_/2023_10_18/lesson19/lesson19.ipynb#W3sZmlsZQ%3D%3D?line=7'>8</a>\u001b[0m \u001b[39m    \t\"站點名稱\"\tTEXT NOT NULL,\u001b[39;49;00m\n\u001b[0;32m      <a href='vscode-notebook-cell:/c%3A/Users/User/Documents/Github/_11209tvdi_python_/2023_10_18/lesson19/lesson19.ipynb#W3sZmlsZQ%3D%3D?line=8'>9</a>\u001b[0m \u001b[39m    \t\"行政區\"\tTEXT NOT NULL,\u001b[39;49;00m\n\u001b[0;32m     <a href='vscode-notebook-cell:/c%3A/Users/User/Documents/Github/_11209tvdi_python_/2023_10_18/lesson19/lesson19.ipynb#W3sZmlsZQ%3D%3D?line=9'>10</a>\u001b[0m \u001b[39m    \t\"更新時間\"\tTEXT NOT NULL,\u001b[39;49;00m\n\u001b[0;32m     <a href='vscode-notebook-cell:/c%3A/Users/User/Documents/Github/_11209tvdi_python_/2023_10_18/lesson19/lesson19.ipynb#W3sZmlsZQ%3D%3D?line=10'>11</a>\u001b[0m \u001b[39m    \t\"地址\"\tTEXT,\u001b[39;49;00m\n\u001b[0;32m     <a href='vscode-notebook-cell:/c%3A/Users/User/Documents/Github/_11209tvdi_python_/2023_10_18/lesson19/lesson19.ipynb#W3sZmlsZQ%3D%3D?line=11'>12</a>\u001b[0m \u001b[39m    \t\"總車輛數\"\tINTEGER NOT NULL,\u001b[39;49;00m\n\u001b[0;32m     <a href='vscode-notebook-cell:/c%3A/Users/User/Documents/Github/_11209tvdi_python_/2023_10_18/lesson19/lesson19.ipynb#W3sZmlsZQ%3D%3D?line=12'>13</a>\u001b[0m \u001b[39m    \t\"可借\"\tINTEGER,\u001b[39;49;00m\n\u001b[0;32m     <a href='vscode-notebook-cell:/c%3A/Users/User/Documents/Github/_11209tvdi_python_/2023_10_18/lesson19/lesson19.ipynb#W3sZmlsZQ%3D%3D?line=13'>14</a>\u001b[0m \u001b[39m    \t\"可還\"\tINTEGER,\u001b[39;49;00m\n\u001b[0;32m     <a href='vscode-notebook-cell:/c%3A/Users/User/Documents/Github/_11209tvdi_python_/2023_10_18/lesson19/lesson19.ipynb#W3sZmlsZQ%3D%3D?line=14'>15</a>\u001b[0m \u001b[39m    \tPRIMARY KEY(\"id\" AUTOINCREMENT)\u001b[39;49;00m\n\u001b[0;32m     <a href='vscode-notebook-cell:/c%3A/Users/User/Documents/Github/_11209tvdi_python_/2023_10_18/lesson19/lesson19.ipynb#W3sZmlsZQ%3D%3D?line=15'>16</a>\u001b[0m \u001b[39m    );\u001b[39;49;00m\n\u001b[0;32m     <a href='vscode-notebook-cell:/c%3A/Users/User/Documents/Github/_11209tvdi_python_/2023_10_18/lesson19/lesson19.ipynb#W3sZmlsZQ%3D%3D?line=16'>17</a>\u001b[0m \u001b[39m    '''\u001b[39;49;00m\n\u001b[0;32m     <a href='vscode-notebook-cell:/c%3A/Users/User/Documents/Github/_11209tvdi_python_/2023_10_18/lesson19/lesson19.ipynb#W3sZmlsZQ%3D%3D?line=17'>18</a>\u001b[0m )\n",
      "\u001b[1;31mOperationalError\u001b[0m: near \"IF\": syntax error"
     ]
    }
   ],
   "source": [
    "import sqlite3\n",
    "con = sqlite3.connect(\"tutorial.db\")\n",
    "cursor = con.cursor()\n",
    "cursor.execute(\n",
    "    '''\n",
    "    CREATE TABLE IF NOT EXISTS 台北市 (\n",
    "        \"id\"\tINTEGER,\n",
    "    \t\"站點名稱\"\tTEXT NOT NULL,\n",
    "    \t\"行政區\"\tTEXT NOT NULL,\n",
    "    \t\"更新時間\"\tTEXT NOT NULL,\n",
    "    \t\"地址\"\tTEXT,\n",
    "    \t\"總車輛數\"\tINTEGER NOT NULL,\n",
    "    \t\"可借\"\tINTEGER,\n",
    "    \t\"可還\"\tINTEGER,\n",
    "    \tPRIMARY KEY(\"id\" AUTOINCREMENT)\n",
    "    );\n",
    "    '''\n",
    ")"
   ]
  },
  {
   "cell_type": "code",
   "execution_count": null,
   "metadata": {},
   "outputs": [],
   "source": [
    "CREATE TABLE \"台北市\" (\n",
    "\t\"id\"\tINTEGER,\n",
    "\t\"站點名稱\"\tTEXT NOT NULL,\n",
    "\t\"行政區\"\tTEXT NOT NULL,\n",
    "\t\"更新時間\"\tTEXT NOT NULL,\n",
    "\t\"地址\"\tTEXT,\n",
    "\t\"總車輛數\"\tINTEGER NOT NULL,\n",
    "\t\"可借\"\tINTEGER,\n",
    "\t\"可還\"\tINTEGER,\n",
    "\tPRIMARY KEY(\"id\" AUTOINCREMENT)\n",
    ")"
   ]
  }
 ],
 "metadata": {
  "kernelspec": {
   "display_name": ".venv",
   "language": "python",
   "name": "python3"
  },
  "language_info": {
   "codemirror_mode": {
    "name": "ipython",
    "version": 3
   },
   "file_extension": ".py",
   "mimetype": "text/x-python",
   "name": "python",
   "nbconvert_exporter": "python",
   "pygments_lexer": "ipython3",
   "version": "3.11.4"
  }
 },
 "nbformat": 4,
 "nbformat_minor": 2
}
