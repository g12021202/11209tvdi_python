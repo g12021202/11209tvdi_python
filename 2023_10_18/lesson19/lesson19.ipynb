{
 "cells": [
  {
   "cell_type": "code",
   "execution_count": 1,
   "metadata": {},
   "outputs": [],
   "source": [
    "# YouBike2.0臺北市公共自行車即時資訊\n",
    "import requests\n",
    "url = 'https://tcgbusfs.blob.core.windows.net/dotapp/youbike/v2/youbike_immediate.json'\n",
    "try:\n",
    "    response = requests.request('GET',url)\n",
    "    response.raise_for_status()\n",
    "except:\n",
    "    print(\"網路有問題\")\n",
    "else:\n",
    "    if response.status_code == 200:\n",
    "        try:\n",
    "            data = response.json()\n",
    "        except requests.JSONDecodeError:\n",
    "            print(\"無法轉換為josn\")"
   ]
  },
  {
   "cell_type": "code",
   "execution_count": null,
   "metadata": {},
   "outputs": [],
   "source": [
    "data"
   ]
  },
  {
   "cell_type": "code",
   "execution_count": 2,
   "metadata": {},
   "outputs": [
    {
     "data": {
      "text/plain": [
       "<sqlite3.Cursor at 0x2dc6ffbb040>"
      ]
     },
     "execution_count": 2,
     "metadata": {},
     "output_type": "execute_result"
    }
   ],
   "source": [
    "import sqlite3\n",
    "con = sqlite3.connect(\"youbike.db\")\n",
    "cursor = con.cursor()\n",
    "cursor.execute(\n",
    "    '''\n",
    "    CREATE TABLE IF NOT EXISTS 台北市 (\n",
    "        \"id\"\tINTEGER,\n",
    "    \t\"站點名稱\"\tTEXT NOT NULL,\n",
    "    \t\"行政區\"\tTEXT NOT NULL,\n",
    "    \t\"更新時間\"\tTEXT NOT NULL,\n",
    "    \t\"地址\"\tTEXT,\n",
    "    \t\"總車輛數\"\tINTEGER NOT NULL,\n",
    "    \t\"可借\"\tINTEGER,\n",
    "    \t\"可還\"\tINTEGER,\n",
    "    \tPRIMARY KEY(\"id\" AUTOINCREMENT)\n",
    "    );\n",
    "    '''\n",
    ")"
   ]
  },
  {
   "cell_type": "code",
   "execution_count": null,
   "metadata": {},
   "outputs": [],
   "source": [
    "CREATE TABLE \"台北市\" (\n",
    "\t\"id\"\tINTEGER,\n",
    "\t\"站點名稱\"\tTEXT NOT NULL,\n",
    "\t\"行政區\"\tTEXT NOT NULL,\n",
    "\t\"更新時間\"\tTEXT NOT NULL,\n",
    "\t\"地址\"\tTEXT,\n",
    "\t\"總車輛數\"\tINTEGER NOT NULL,\n",
    "\t\"可借\"\tINTEGER,\n",
    "\t\"可還\"\tINTEGER,\n",
    "\tPRIMARY KEY(\"id\" AUTOINCREMENT)\n",
    ")"
   ]
  }
 ],
 "metadata": {
  "kernelspec": {
   "display_name": ".venv",
   "language": "python",
   "name": "python3"
  },
  "language_info": {
   "codemirror_mode": {
    "name": "ipython",
    "version": 3
   },
   "file_extension": ".py",
   "mimetype": "text/x-python",
   "name": "python",
   "nbconvert_exporter": "python",
   "pygments_lexer": "ipython3",
   "version": "3.11.4"
  }
 },
 "nbformat": 4,
 "nbformat_minor": 2
}
