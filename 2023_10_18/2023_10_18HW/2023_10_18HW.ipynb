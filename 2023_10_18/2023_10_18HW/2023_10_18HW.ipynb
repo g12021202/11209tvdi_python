{
 "cells": [
  {
   "cell_type": "code",
   "execution_count": null,
   "metadata": {},
   "outputs": [],
   "source": [
    "import yfinance as yf\n",
    "import csv\n",
    "import json\n",
    "\n",
    "data = yf.download(\"2330.TW\", start = '2023-01-01')\n",
    "data.to_csv('tsmc.csv')\n",
    "\n",
    "def make_json(csvFilePath, jsonFilePath):\n",
    "    data_dict = {}\n",
    "    with open(csvFilePath, encoding='utf-8') as csvf:\n",
    "        csvReader = csv.DictReader(csvf)\n",
    "        for rows in csvReader:\n",
    "             \n",
    "            key = rows['Date']\n",
    "            data_dict[key] = rows\n",
    "    with open(jsonFilePath, 'w', encoding='utf-8') as jsonf:\n",
    "        jsonf.write(json.dumps(data_dict, indent=4))\n",
    "\n",
    "csvFilePath = r'tsmc.csv'\n",
    "jsonFilePath = r'tsmc.json'\n",
    " \n",
    "make_json(csvFilePath, jsonFilePath)"
   ]
  },
  {
   "cell_type": "code",
   "execution_count": null,
   "metadata": {},
   "outputs": [],
   "source": [
    "import sqlite3\n",
    "import json\n",
    "\n",
    "def create_table(conn):\n",
    "    cursor = conn.cursor()\n",
    "    cursor.execute(\n",
    "        '''\n",
    "        CREATE TABLE IF NOT EXISTS 台積電 (\n",
    "            \"id\"    INTEGER NOT NULL,\n",
    "            \"日期\"\tINTEGER NOT NULL,\n",
    "            \"開市\"\tINTEGER NOT NULL,\n",
    "            \"最高\"\tINTEGER NOT NULL,\n",
    "            \"最低\"\tINTEGER NOT NULL,\n",
    "            \"收市\"\tINTEGER NOT NULL,\n",
    "            \"經調整收市價\"\tINTEGER NOT NULL,\n",
    "            \"成交量\"\tINTEGER,\n",
    "            PRIMARY KEY(\"id\" AUTOINCREMENT)\n",
    "        );\n",
    "        '''\n",
    "    )\n",
    "    conn.commit()\n",
    "def insert_data(conn,values):\n",
    "    cursor = conn.cursor()\n",
    "    sql = '''\n",
    "        INSERT INTO 台積電 (日期, 開市, 最高, 最低, 收市, 經調整收市價, 成交量)\n",
    "        VALUES(?,?,?,?,?,?,?)\n",
    "        '''\n",
    "    cursor.execute(sql, values)\n",
    "    conn.commit()\n",
    "\n",
    "conn = sqlite3.connect(\"stock.db\")\n",
    "create_table(conn)\n",
    "conn.commit()\n",
    "\n",
    "with open(\"tsmc.json\",mode=\"r\") as file:\n",
    "    data = json.load(file)\n",
    "    for item in data:\n",
    "        insert_data(conn,(item[0], item[1], item[2], item[3], item[4], item[5], item[6]))"
   ]
  }
 ],
 "metadata": {
  "kernelspec": {
   "display_name": ".venv",
   "language": "python",
   "name": "python3"
  },
  "language_info": {
   "name": "python",
   "version": "3.11.4"
  }
 },
 "nbformat": 4,
 "nbformat_minor": 2
}
