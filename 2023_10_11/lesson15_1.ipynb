{
 "cells": [
  {
   "cell_type": "code",
   "execution_count": 5,
   "metadata": {},
   "outputs": [
    {
     "name": "stdout",
     "output_type": "stream",
     "text": [
      "True\n"
     ]
    }
   ],
   "source": [
    "try: \n",
    "    file = open('students.csv', encoding='utf-8', newline='')  #  mode='r'為預設，可以不用寫\n",
    "    file.close() # 實體方法\n",
    "    print(file.closed)  # 實體attribute\n",
    "except:\n",
    "    print(\"讀檔錯誤\")\n"
   ]
  },
  {
   "cell_type": "code",
   "execution_count": 7,
   "metadata": {},
   "outputs": [
    {
     "name": "stdout",
     "output_type": "stream",
     "text": [
      "姓名,國文,英文,數學,地理,歷史\n",
      "\n",
      "第一位,93,74,92,89,75\n",
      "\n",
      "第二位,75,85,94,78,59\n",
      "True\n"
     ]
    }
   ],
   "source": [
    "try: \n",
    "    file = open('students.csv', encoding='utf-8', newline='')  #  mode='r'為預設，可以不用寫\n",
    "    print(file.readline())\n",
    "    print(file.readline())\n",
    "    print(file.readline())\n",
    "    file.close() # 實體方法\n",
    "    print(file.closed)  # 實體attribute\n",
    "except:\n",
    "    print(\"讀檔錯誤\")\n"
   ]
  },
  {
   "cell_type": "code",
   "execution_count": 8,
   "metadata": {},
   "outputs": [
    {
     "name": "stdout",
     "output_type": "stream",
     "text": [
      "['姓名', '國文', '英文', '數學', '地理', '歷史']\n",
      "['第一位', '93', '74', '92', '89', '75']\n",
      "['第二位', '75', '85', '94', '78', '59']\n",
      "True\n"
     ]
    }
   ],
   "source": [
    "import csv\n",
    "try: \n",
    "    file = open('students.csv', encoding='utf-8', newline='')  #  mode='r'為預設，可以不用寫\n",
    "    csv_reader = csv.reader(file)\n",
    "    for row in csv_reader:\n",
    "        print(row)  # print 出 list\n",
    "    file.close() # 實體方法\n",
    "    print(file.closed)  # 實體attribute\n",
    "except:\n",
    "    print(\"讀檔錯誤\")\n"
   ]
  },
  {
   "cell_type": "code",
   "execution_count": 13,
   "metadata": {},
   "outputs": [
    {
     "name": "stdout",
     "output_type": "stream",
     "text": [
      "<_csv.reader object at 0x000002143D539480>\n",
      "True\n"
     ]
    },
    {
     "data": {
      "text/plain": [
       "[['姓名', '國文', '英文', '數學', '地理', '歷史'],\n",
       " ['第一位', '93', '74', '92', '89', '75'],\n",
       " ['第二位', '75', '85', '94', '78', '59']]"
      ]
     },
     "execution_count": 13,
     "metadata": {},
     "output_type": "execute_result"
    }
   ],
   "source": [
    "import csv\n",
    "try: \n",
    "    file = open('students.csv', encoding='utf-8', newline='')  #  mode='r'為預設，可以不用寫\n",
    "    csv_reader = csv.reader(file)\n",
    "    csv_list = list(csv_reader)\n",
    "    file.close() # 實體方法\n",
    "    print(file.closed)  # 實體attribute\n",
    "except:\n",
    "    print(\"讀檔錯誤\")\n",
    "\n",
    "csv_list"
   ]
  },
  {
   "cell_type": "code",
   "execution_count": 12,
   "metadata": {},
   "outputs": [
    {
     "data": {
      "text/plain": [
       "['第二位', '75', '85', '94', '78', '59']"
      ]
     },
     "execution_count": 12,
     "metadata": {},
     "output_type": "execute_result"
    }
   ],
   "source": [
    "csv_list[2]"
   ]
  },
  {
   "cell_type": "code",
   "execution_count": 14,
   "metadata": {},
   "outputs": [
    {
     "name": "stdout",
     "output_type": "stream",
     "text": [
      "<_csv.reader object at 0x000002143D539480>\n",
      "True\n"
     ]
    },
    {
     "data": {
      "text/plain": [
       "[{'姓名': '第一位', '國文': '93', '英文': '74', '數學': '92', '地理': '89', '歷史': '75'},\n",
       " {'姓名': '第二位', '國文': '75', '英文': '85', '數學': '94', '地理': '78', '歷史': '59'}]"
      ]
     },
     "execution_count": 14,
     "metadata": {},
     "output_type": "execute_result"
    }
   ],
   "source": [
    "import csv\n",
    "try: \n",
    "    file = open('students.csv', encoding='utf-8', newline='')  #  mode='r'為預設，可以不用寫\n",
    "    csv_dictReader = csv.DictReader(file)\n",
    "    csv_list = list(csv_dictReader)\n",
    "    file.close() # 實體方法\n",
    "    print(file.closed)  # 實體attribute\n",
    "except:\n",
    "    print(\"讀檔錯誤\")\n",
    "\n",
    "csv_list"
   ]
  }
 ],
 "metadata": {
  "kernelspec": {
   "display_name": ".venv",
   "language": "python",
   "name": "python3"
  },
  "language_info": {
   "codemirror_mode": {
    "name": "ipython",
    "version": 3
   },
   "file_extension": ".py",
   "mimetype": "text/x-python",
   "name": "python",
   "nbconvert_exporter": "python",
   "pygments_lexer": "ipython3",
   "version": "3.10.8"
  }
 },
 "nbformat": 4,
 "nbformat_minor": 2
}
