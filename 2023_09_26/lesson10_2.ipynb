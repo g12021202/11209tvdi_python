{
 "cells": [
  {
   "cell_type": "code",
   "execution_count": 3,
   "metadata": {},
   "outputs": [
    {
     "name": "stdout",
     "output_type": "stream",
     "text": [
      "Hello!\n"
     ]
    }
   ],
   "source": [
    "def sayHello():\n",
    "    print(\"Hello!\")\n",
    "\n",
    "sayHello()"
   ]
  },
  {
   "cell_type": "code",
   "execution_count": null,
   "metadata": {},
   "outputs": [],
   "source": [
    "def GuessNumberGame():\n",
    "    import random\n",
    "    min = 1\n",
    "    max = 100\n",
    "    count = 0\n",
    "\n",
    "    target = random.randint(min, max)\n",
    "    print(\"===============猜數字遊戲=================:\")\n",
    "\n",
    "    while(True):\n",
    "        count += 1\n",
    "        keyin = int(input(f\"猜數字範圍{min}~{max}\"))\n",
    "        if (keyin == target):\n",
    "            print(\"您猜中了,答案是\",keyin)\n",
    "            print(\"您總共猜了\",count,\"次\")\n",
    "        elif (keyin > target):\n",
    "            print(\"再小一點\")\n",
    "            max = keyin - 1\n",
    "        elif (keyin < target):\n",
    "            print(\"再大一點\")\n",
    "            min = keyin +1\n",
    "        else:\n",
    "            print(\"請輸入提示範圍內的數字\")\n",
    "\n",
    "    print(\"遊戲結束!\")\n",
    "GuessNumberGame()"
   ]
  }
 ],
 "metadata": {
  "kernelspec": {
   "display_name": ".venv",
   "language": "python",
   "name": "python3"
  },
  "language_info": {
   "codemirror_mode": {
    "name": "ipython",
    "version": 3
   },
   "file_extension": ".py",
   "mimetype": "text/x-python",
   "name": "python",
   "nbconvert_exporter": "python",
   "pygments_lexer": "ipython3",
   "version": "3.10.8"
  },
  "orig_nbformat": 4
 },
 "nbformat": 4,
 "nbformat_minor": 2
}
