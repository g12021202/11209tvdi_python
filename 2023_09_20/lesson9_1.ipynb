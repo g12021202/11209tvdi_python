{
 "cells": [
  {
   "cell_type": "code",
   "execution_count": 15,
   "metadata": {},
   "outputs": [
    {
     "name": "stdout",
     "output_type": "stream",
     "text": [
      "請輸入學生分數:59\n",
      "丁\n"
     ]
    }
   ],
   "source": [
    "# 90(含)~100分為「優」\n",
    "# 80(含)~89分為「甲」\n",
    "# 70(含)~79分為「乙」\n",
    "# 60(含)~69分為「丙」\n",
    "# 0(含)~59分為「丁」\n",
    "\n",
    "import pyinputplus as pyip\n",
    "\n",
    "score = pyip.inputInt(\"請輸入學生分數:\", min=0, max=100)\n",
    "print(score)\n",
    "message = \"\"\n",
    "if score>=90:\n",
    "     message = \"優\"\n",
    "else:\n",
    "     if score>=80:\n",
    "           message = \"甲\"\n",
    "     else:\n",
    "          if score>=70:\n",
    "               message = \"乙\"\n",
    "          else:\n",
    "               if score>=60:\n",
    "                    message = \"丙\"\n",
    "               else:\n",
    "                    message = \"丁\"\n",
    "print(message)"
   ]
  },
  {
   "cell_type": "code",
   "execution_count": 8,
   "metadata": {},
   "outputs": [
    {
     "name": "stdout",
     "output_type": "stream",
     "text": [
      "請輸入學生分數:59\n",
      "丁\n"
     ]
    }
   ],
   "source": [
    "# 90(含)~100分為「優」\n",
    "# 80(含)~89分為「甲」\n",
    "# 70(含)~79分為「乙」\n",
    "# 60(含)~69分為「丙」\n",
    "# 0(含)~59分為「丁」\n",
    "\n",
    "import pyinputplus as pyip\n",
    "\n",
    "score = pyip.inputInt(\"請輸入學生分數:\", min=0, max=100)\n",
    "print(score)\n",
    "message = \"\"\n",
    "#多項選擇,1個if\n",
    "if score>=90:\n",
    "     message = \"優\"\n",
    "elif score>=80:\n",
    "     message = \"甲\"\n",
    "elif score>=70:\n",
    "     message = \"乙\"\n",
    "elif score>=60:\n",
    "     message = \"丙\"\n",
    "else:\n",
    "     message = \"丁\"\n",
    "print(message)"
   ]
  },
  {
   "cell_type": "code",
   "execution_count": 23,
   "metadata": {},
   "outputs": [
    {
     "name": "stdout",
     "output_type": "stream",
     "text": [
      "請輸入顧客購買金額:100\n",
      "實付金額是:  100 元\n"
     ]
    }
   ],
   "source": [
    "#輸入顧客購買金額，若金額在\n",
    "# 100000元打8折. \n",
    "#50000打85折. \n",
    "#30000打9折. \n",
    "#10000打95折. \n",
    "\n",
    "#請輸入購買金額:130000\n",
    "#實付金額是: 104000.0 元\n",
    "import pyinputplus as pyip\n",
    "money = pyip.inputInt(\"請輸入顧客購買金額:\")\n",
    "print(money)\n",
    "payMoney=\"\"\n",
    "#多項選擇,1個if\n",
    "if money>=100000:\n",
    "     payMoney *=0.8\n",
    "elif money>=50000:\n",
    "     payMoney *=0.85\n",
    "elif money>=30000:\n",
    "     payMoney *=0.9\n",
    "elif money>=10000:\n",
    "     payMoney *=0.95\n",
    "else:\n",
    "     payMoney = money\n",
    "\n",
    "print(f\"實付金額是: \", payMoney,\"元\")  # print(f\"實付金額是: {payMoney}元\")"
   ]
  },
  {
   "cell_type": "code",
   "execution_count": null,
   "metadata": {},
   "outputs": [],
   "source": []
  }
 ],
 "metadata": {
  "kernelspec": {
   "display_name": ".venv",
   "language": "python",
   "name": "python3"
  },
  "language_info": {
   "codemirror_mode": {
    "name": "ipython",
    "version": 3
   },
   "file_extension": ".py",
   "mimetype": "text/x-python",
   "name": "python",
   "nbconvert_exporter": "python",
   "pygments_lexer": "ipython3",
   "version": "3.10.8"
  },
  "orig_nbformat": 4
 },
 "nbformat": 4,
 "nbformat_minor": 2
}
