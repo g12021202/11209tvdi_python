{
 "cells": [
  {
   "cell_type": "code",
   "execution_count": 15,
   "metadata": {},
   "outputs": [
    {
     "name": "stdout",
     "output_type": "stream",
     "text": [
      "請輸入學生分數:59\n",
      "丁\n"
     ]
    }
   ],
   "source": [
    "# 90(含)~100分為「優」\n",
    "# 80(含)~89分為「甲」\n",
    "# 70(含)~79分為「乙」\n",
    "# 60(含)~69分為「丙」\n",
    "# 0(含)~59分為「丁」\n",
    "\n",
    "import pyinputplus as pyip\n",
    "\n",
    "score = pyip.inputInt(\"請輸入學生分數:\", min=0, max=100)\n",
    "print(score)\n",
    "message = \"\"\n",
    "if score>=90:\n",
    "     message = \"優\"\n",
    "else:\n",
    "     if score>=80:\n",
    "           message = \"甲\"\n",
    "     else:\n",
    "          if score>=70:\n",
    "               message = \"乙\"\n",
    "          else:\n",
    "               if score>=60:\n",
    "                    message = \"丙\"\n",
    "               else:\n",
    "                    message = \"丁\"\n",
    "print(message)"
   ]
  },
  {
   "cell_type": "code",
   "execution_count": 8,
   "metadata": {},
   "outputs": [
    {
     "name": "stdout",
     "output_type": "stream",
     "text": [
      "請輸入學生分數:59\n",
      "丁\n"
     ]
    }
   ],
   "source": [
    "# 90(含)~100分為「優」\n",
    "# 80(含)~89分為「甲」\n",
    "# 70(含)~79分為「乙」\n",
    "# 60(含)~69分為「丙」\n",
    "# 0(含)~59分為「丁」\n",
    "\n",
    "import pyinputplus as pyip\n",
    "\n",
    "score = pyip.inputInt(\"請輸入學生分數:\", min=0, max=100)\n",
    "print(score)\n",
    "message = \"\"\n",
    "#多項選擇,1個if\n",
    "if score>=90:\n",
    "     message = \"優\"\n",
    "elif score>=80:\n",
    "     message = \"甲\"\n",
    "elif score>=70:\n",
    "     message = \"乙\"\n",
    "elif score>=60:\n",
    "     message = \"丙\"\n",
    "else:\n",
    "     message = \"丁\"\n",
    "print(message)"
   ]
  }
 ],
 "metadata": {
  "kernelspec": {
   "display_name": ".venv",
   "language": "python",
   "name": "python3"
  },
  "language_info": {
   "codemirror_mode": {
    "name": "ipython",
    "version": 3
   },
   "file_extension": ".py",
   "mimetype": "text/x-python",
   "name": "python",
   "nbconvert_exporter": "python",
   "pygments_lexer": "ipython3",
   "version": "3.10.8"
  },
  "orig_nbformat": 4
 },
 "nbformat": 4,
 "nbformat_minor": 2
}
