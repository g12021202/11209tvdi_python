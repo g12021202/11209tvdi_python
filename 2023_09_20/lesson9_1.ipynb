{
 "cells": [
  {
   "cell_type": "code",
   "execution_count": null,
   "metadata": {},
   "outputs": [],
   "source": [
    "# 90(含)~100分為「優」\n",
    "# 80(含)~89分為「甲」\n",
    "# 70(含)~79分為「乙」\n",
    "# 60(含)~69分為「丙」\n",
    "# 0(含)~59分為「丁」\n",
    "\n",
    "import pyinputplus as pyip\n",
    "\n",
    "score = pyip.inputInt(\"請輸入學生分數:\", min=0, max=100)\n",
    "print(score)\n",
    "message = \"\"\n",
    "if score>=90:\n",
    "     pmessage = \"甲\"\n",
    "else:\n",
    "     if score>=80:\n",
    "           message = \"甲\"\n",
    "     else:\n",
    "          if score>=70:\n",
    "               message = \"乙\"\n",
    "          else:\n",
    "               if score>=60:\n",
    "                    message = \"丙\"\n",
    "               else:\n",
    "                    message = \"丁\"\n",
    "print(message)"
   ]
  }
 ],
 "metadata": {
  "language_info": {
   "name": "python"
  },
  "orig_nbformat": 4
 },
 "nbformat": 4,
 "nbformat_minor": 2
}
