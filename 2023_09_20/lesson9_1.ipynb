{
 "cells": [
  {
   "cell_type": "code",
   "execution_count": 15,
   "metadata": {},
   "outputs": [
    {
     "name": "stdout",
     "output_type": "stream",
     "text": [
      "請輸入學生分數:59\n",
      "丁\n"
     ]
    }
   ],
   "source": [
    "# 90(含)~100分為「優」\n",
    "# 80(含)~89分為「甲」\n",
    "# 70(含)~79分為「乙」\n",
    "# 60(含)~69分為「丙」\n",
    "# 0(含)~59分為「丁」\n",
    "\n",
    "import pyinputplus as pyip\n",
    "\n",
    "score = pyip.inputInt(\"請輸入學生分數:\", min=0, max=100)\n",
    "print(score)\n",
    "message = \"\"\n",
    "if score>=90:\n",
    "     message = \"優\"\n",
    "else:\n",
    "     if score>=80:\n",
    "           message = \"甲\"\n",
    "     else:\n",
    "          if score>=70:\n",
    "               message = \"乙\"\n",
    "          else:\n",
    "               if score>=60:\n",
    "                    message = \"丙\"\n",
    "               else:\n",
    "                    message = \"丁\"\n",
    "print(message)"
   ]
  },
  {
   "cell_type": "code",
   "execution_count": 8,
   "metadata": {},
   "outputs": [
    {
     "name": "stdout",
     "output_type": "stream",
     "text": [
      "請輸入學生分數:59\n",
      "丁\n"
     ]
    }
   ],
   "source": [
    "# 90(含)~100分為「優」\n",
    "# 80(含)~89分為「甲」\n",
    "# 70(含)~79分為「乙」\n",
    "# 60(含)~69分為「丙」\n",
    "# 0(含)~59分為「丁」\n",
    "\n",
    "import pyinputplus as pyip\n",
    "\n",
    "score = pyip.inputInt(\"請輸入學生分數:\", min=0, max=100)\n",
    "print(score)\n",
    "message = \"\"\n",
    "#多項選擇,1個if\n",
    "if score>=90:\n",
    "     message = \"優\"\n",
    "elif score>=80:\n",
    "     message = \"甲\"\n",
    "elif score>=70:\n",
    "     message = \"乙\"\n",
    "elif score>=60:\n",
    "     message = \"丙\"\n",
    "else:\n",
    "     message = \"丁\"\n",
    "print(message)"
   ]
  },
  {
   "cell_type": "code",
   "execution_count": 28,
   "metadata": {},
   "outputs": [
    {
     "name": "stdout",
     "output_type": "stream",
     "text": [
      "請輸入顧客購買金額:10000\n"
     ]
    },
    {
     "ename": "TypeError",
     "evalue": "can't multiply sequence by non-int of type 'float'",
     "output_type": "error",
     "traceback": [
      "\u001b[1;31m---------------------------------------------------------------------------\u001b[0m",
      "\u001b[1;31mTypeError\u001b[0m                                 Traceback (most recent call last)",
      "\u001b[1;32mc:\\Users\\User\\Documents\\Github\\_11209tvdi_python_\\2023_09_20\\lesson9_1.ipynb 儲存格 3\u001b[0m line \u001b[0;36m2\n\u001b[0;32m     <a href='vscode-notebook-cell:/c%3A/Users/User/Documents/Github/_11209tvdi_python_/2023_09_20/lesson9_1.ipynb#W2sZmlsZQ%3D%3D?line=18'>19</a>\u001b[0m      payMoney \u001b[39m*\u001b[39m\u001b[39m=\u001b[39m\u001b[39m0.9\u001b[39m\n\u001b[0;32m     <a href='vscode-notebook-cell:/c%3A/Users/User/Documents/Github/_11209tvdi_python_/2023_09_20/lesson9_1.ipynb#W2sZmlsZQ%3D%3D?line=19'>20</a>\u001b[0m \u001b[39melif\u001b[39;00m money\u001b[39m>\u001b[39m\u001b[39m=\u001b[39m\u001b[39m10000\u001b[39m:\n\u001b[1;32m---> <a href='vscode-notebook-cell:/c%3A/Users/User/Documents/Github/_11209tvdi_python_/2023_09_20/lesson9_1.ipynb#W2sZmlsZQ%3D%3D?line=20'>21</a>\u001b[0m      payMoney \u001b[39m*\u001b[39m\u001b[39m=\u001b[39m\u001b[39m0.95\u001b[39m\n\u001b[0;32m     <a href='vscode-notebook-cell:/c%3A/Users/User/Documents/Github/_11209tvdi_python_/2023_09_20/lesson9_1.ipynb#W2sZmlsZQ%3D%3D?line=21'>22</a>\u001b[0m \u001b[39melse\u001b[39;00m:\n\u001b[0;32m     <a href='vscode-notebook-cell:/c%3A/Users/User/Documents/Github/_11209tvdi_python_/2023_09_20/lesson9_1.ipynb#W2sZmlsZQ%3D%3D?line=22'>23</a>\u001b[0m      payMoney \u001b[39m=\u001b[39m money\n",
      "\u001b[1;31mTypeError\u001b[0m: can't multiply sequence by non-int of type 'float'"
     ]
    }
   ],
   "source": [
    "#輸入顧客購買金額，若金額在\n",
    "# 100000元打8折. \n",
    "#50000打85折. \n",
    "#30000打9折. \n",
    "#10000打95折. \n",
    "\n",
    "#請輸入購買金額:130000\n",
    "#實付金額是: 104000.0 元\n",
    "import pyinputplus as pyip\n",
    "money = pyip.inputInt(\"請輸入顧客購買金額:\")\n",
    "print(money)\n",
    "payMoney=\"\"\n",
    "#多項選擇,1個if\n",
    "if money >= 100000:\n",
    "    payMoney = money * 0.8\n",
    "elif money >= 50000:\n",
    "    payMoney = money * 0.85\n",
    "elif money >= 30000:\n",
    "    payMoney = money * 0.9\n",
    "elif money >= 10000:\n",
    "    payMoney = money * 0.95\n",
    "else:\n",
    "    payMoney = money\n",
    "\n",
    "print(f\"實付金額是: \", payMoney,\"元\")  # print(f\"實付金額是: {payMoney}元\")"
   ]
  },
  {
   "cell_type": "code",
   "execution_count": 45,
   "metadata": {},
   "outputs": [
    {
     "name": "stdout",
     "output_type": "stream",
     "text": [
      "請輸入顧客購買金額:150000\n",
      "買千送百折扣: 15000 元\n",
      "實付金額是:  108000.0 元\n"
     ]
    }
   ],
   "source": [
    "#輸入顧客購買金額\n",
    "#滿千送百後再打折\n",
    "# 100000元打8折. \n",
    "#50000打85折. \n",
    "#30000打9折. \n",
    "#10000打95折.\n",
    "\n",
    "import pyinputplus as pyip\n",
    "import math\n",
    "money = pyip.inputInt(\"請輸入顧客購買金額:\")\n",
    "print(money)\n",
    "discount = math.floor(money * 0.001)\n",
    "discount *= 100\n",
    "print(f\"買千送百折扣: {discount} 元\")\n",
    "discountMoney = money - discount\n",
    "payMoney=\"\"\n",
    "#多項選擇,1個if\n",
    "if discountMoney >= 100000:\n",
    "    payMoney = discountMoney * 0.8\n",
    "elif money >= 50000:\n",
    "    payMoney = discountMoney * 0.85\n",
    "elif money >= 30000:\n",
    "    payMoney = discountMoney * 0.9\n",
    "elif money >= 10000:\n",
    "    payMoney = discountMoney * 0.95\n",
    "else:\n",
    "    payMoney = discountMoney\n",
    "\n",
    "print(f\"實付金額是: \", payMoney,\"元\")  # print(f\"實付金額是: {payMoney}元\")"
   ]
  }
 ],
 "metadata": {
  "kernelspec": {
   "display_name": ".venv",
   "language": "python",
   "name": "python3"
  },
  "language_info": {
   "codemirror_mode": {
    "name": "ipython",
    "version": 3
   },
   "file_extension": ".py",
   "mimetype": "text/x-python",
   "name": "python",
   "nbconvert_exporter": "python",
   "pygments_lexer": "ipython3",
   "version": "3.10.8"
  },
  "orig_nbformat": 4
 },
 "nbformat": 4,
 "nbformat_minor": 2
}
