{
 "cells": [
  {
   "cell_type": "code",
   "execution_count": null,
   "metadata": {},
   "outputs": [],
   "source": [
    "import pyinputplus as pyip\n",
    "height = pyip.inputInt(\"請輸入身高,單位為(公分):\")\n",
    "weight = pyip.inputInt(\"請輸入體重,單位為(公斤):\")\n",
    "\n",
    "BMI = weight / ((height/100)**2)\n",
    "print(f\"您的BMI是{BMI}\")\n",
    "if BMI < 18.5:\n",
    "    print(\"您的體重太輕\")\n",
    "elif BMI <= 25:\n",
    "    print(\"您的體重正常\")\n",
    "elif BMI <= 30:\n",
    "    print(\"您的體重過重\")\n",
    "else:\n",
    "    print(\"您的體重肥胖\")"
   ]
  }
 ],
 "metadata": {
  "kernelspec": {
   "display_name": ".venv",
   "language": "python",
   "name": "python3"
  },
  "language_info": {
   "name": "python",
   "version": "3.10.8"
  },
  "orig_nbformat": 4
 },
 "nbformat": 4,
 "nbformat_minor": 2
}
