{
 "cells": [
  {
   "cell_type": "code",
   "execution_count": 14,
   "metadata": {},
   "outputs": [
    {
     "name": "stdout",
     "output_type": "stream",
     "text": [
      "連線成功\n",
      "<connection object at 0x000002441A6E5470; dsn: 'user=maindb_r7ed_user password=xxx dbname=maindb_r7ed host=dpg-cl5i5ppo91lc7386j7l0-a.singapore-postgres.render.com port=5432', closed: 0>\n"
     ]
    }
   ],
   "source": [
    "import psycopg2\n",
    "import password\n",
    "try:\n",
    "    conn = psycopg2.connect(database=pw.DATABASE, \n",
    "                        user=pw.USER,\n",
    "                        password=pw.PASSWORD, \n",
    "                        host=pw.HOST, \n",
    "                        port=\"5432\")\n",
    "except psycopg2.Error as e:\n",
    "    print(\"error\")\n",
    "    print(e)\n",
    "else:\n",
    "    print(\"連線成功\")\n",
    "    print(conn)\n",
    "    # conn.close()"
   ]
  },
  {
   "cell_type": "code",
   "execution_count": 9,
   "metadata": {},
   "outputs": [
    {
     "name": "stdout",
     "output_type": "stream",
     "text": [
      "[(1, 'YouBike2.0_一壽橋', '文山區', '2023-11-08 10:43:16', '樟新街64號前方', 16, 1, 15)]\n"
     ]
    }
   ],
   "source": [
    "# Open a cursor to perform database operations\n",
    "with conn.cursor() as cursor:\n",
    "    cursor.execute(\"select * from 台北市youbike\")\n",
    "    # Retrieve query results\n",
    "    records = cursor.fetchall()\n",
    "\n",
    "print(records)"
   ]
  },
  {
   "cell_type": "code",
   "execution_count": 10,
   "metadata": {},
   "outputs": [
    {
     "name": "stdout",
     "output_type": "stream",
     "text": [
      "[(1, 'YouBike2.0_一壽橋', '文山區', '2023-11-08 10:43:16', '樟新街64號前方', 16, 1, 15)]\n"
     ]
    }
   ],
   "source": [
    "sql = \"select * from 台北市youbike\"\n",
    "# Open a cursor to perform database operations\n",
    "with conn.cursor() as cursor:\n",
    "    cursor.execute(sql)\n",
    "    # Retrieve query results\n",
    "    records = cursor.fetchall()\n",
    "\n",
    "print(records)"
   ]
  },
  {
   "cell_type": "code",
   "execution_count": 15,
   "metadata": {},
   "outputs": [
    {
     "name": "stdout",
     "output_type": "stream",
     "text": [
      "[(1, 'YouBike2.0_一壽橋', '文山區', '2023-11-08 10:43:16', '樟新街64號前方', 16, 1, 15), (3, 'YouBike2.0_一壽橋', '文山區', '2023-11-08 10:43:18', '樟新街64號前方', 100, 100, 15)]\n"
     ]
    }
   ],
   "source": [
    "sql = '''\n",
    "INSERT INTO 台北市youbike(站點名稱,行政區,更新時間,地址,總車輛數,可借,可還)\n",
    "VALUES('YouBike2.0_一壽橋','文山區','2023-11-08 10:43:18','樟新街64號前方',100,100,15)\n",
    "'''\n",
    "with conn.cursor() as cursor:\n",
    "    cursor.execute(sql)\n",
    "    conn.commit()\n",
    "\n",
    "sql1 = '''\n",
    "select * \n",
    "from 台北市youbike\n",
    "where 站點名稱 = 'YouBike2.0_一壽橋'\n",
    "'''\n",
    "# Open a cursor to perform database operations\n",
    "with conn.cursor() as cursor:\n",
    "    cursor.execute(sql1)\n",
    "    # Retrieve query results\n",
    "    records = cursor.fetchall()\n",
    "\n",
    "print(records)"
   ]
  },
  {
   "cell_type": "code",
   "execution_count": 30,
   "metadata": {},
   "outputs": [
    {
     "ename": "StopIteration",
     "evalue": "",
     "output_type": "error",
     "traceback": [
      "\u001b[1;31m---------------------------------------------------------------------------\u001b[0m",
      "\u001b[1;31mStopIteration\u001b[0m                             Traceback (most recent call last)",
      "\u001b[1;32mc:\\Users\\User\\Documents\\Github\\_11209tvdi_python_\\youbike_render\\test.ipynb 儲存格 5\u001b[0m line \u001b[0;36m1\n\u001b[0;32m     <a href='vscode-notebook-cell:/c%3A/Users/User/Documents/Github/_11209tvdi_python_/youbike_render/test.ipynb#W6sZmlsZQ%3D%3D?line=10'>11</a>\u001b[0m \u001b[39mwith\u001b[39;00m \u001b[39mopen\u001b[39m(\u001b[39m\"\u001b[39m\u001b[39myoubike.csv\u001b[39m\u001b[39m\"\u001b[39m, \u001b[39m\"\u001b[39m\u001b[39mr\u001b[39m\u001b[39m\"\u001b[39m) \u001b[39mas\u001b[39;00m f:\n\u001b[0;32m     <a href='vscode-notebook-cell:/c%3A/Users/User/Documents/Github/_11209tvdi_python_/youbike_render/test.ipynb#W6sZmlsZQ%3D%3D?line=11'>12</a>\u001b[0m     \u001b[39m# Create a CSV writer\u001b[39;00m\n\u001b[0;32m     <a href='vscode-notebook-cell:/c%3A/Users/User/Documents/Github/_11209tvdi_python_/youbike_render/test.ipynb#W6sZmlsZQ%3D%3D?line=12'>13</a>\u001b[0m     reader \u001b[39m=\u001b[39m csv\u001b[39m.\u001b[39mreader(f)\n\u001b[1;32m---> <a href='vscode-notebook-cell:/c%3A/Users/User/Documents/Github/_11209tvdi_python_/youbike_render/test.ipynb#W6sZmlsZQ%3D%3D?line=14'>15</a>\u001b[0m     \u001b[39mnext\u001b[39;49m(reader) \u001b[39m# Skip the header row\u001b[39;00m\n\u001b[0;32m     <a href='vscode-notebook-cell:/c%3A/Users/User/Documents/Github/_11209tvdi_python_/youbike_render/test.ipynb#W6sZmlsZQ%3D%3D?line=16'>17</a>\u001b[0m     \u001b[39mfor\u001b[39;00m row \u001b[39min\u001b[39;00m reader:\n\u001b[0;32m     <a href='vscode-notebook-cell:/c%3A/Users/User/Documents/Github/_11209tvdi_python_/youbike_render/test.ipynb#W6sZmlsZQ%3D%3D?line=17'>18</a>\u001b[0m         cur\u001b[39m.\u001b[39mexecute(\u001b[39m\"\u001b[39m\u001b[39mINSERT INTO 台北市youbike(站點名稱,行政區,更新時間,地址,總車輛數,可借,可還) VALUES (\u001b[39m\u001b[39m%s\u001b[39;00m\u001b[39m, \u001b[39m\u001b[39m%s\u001b[39;00m\u001b[39m, \u001b[39m\u001b[39m%s\u001b[39;00m\u001b[39m, \u001b[39m\u001b[39m%s\u001b[39;00m\u001b[39m, \u001b[39m\u001b[39m%s\u001b[39;00m\u001b[39m, \u001b[39m\u001b[39m%s\u001b[39;00m\u001b[39m, \u001b[39m\u001b[39m%s\u001b[39;00m\u001b[39m )\u001b[39m\u001b[39m\"\u001b[39m,\n\u001b[0;32m     <a href='vscode-notebook-cell:/c%3A/Users/User/Documents/Github/_11209tvdi_python_/youbike_render/test.ipynb#W6sZmlsZQ%3D%3D?line=18'>19</a>\u001b[0m         row\n\u001b[0;32m     <a href='vscode-notebook-cell:/c%3A/Users/User/Documents/Github/_11209tvdi_python_/youbike_render/test.ipynb#W6sZmlsZQ%3D%3D?line=19'>20</a>\u001b[0m         )\n",
      "\u001b[1;31mStopIteration\u001b[0m: "
     ]
    }
   ],
   "source": [
    "import psycopg2\n",
    "import csv\n",
    "\n",
    "conn = psycopg2.connect(database=pw.DATABASE,\n",
    "                        user=pw.USER, \n",
    "                        password=pw.PASSWORD,\n",
    "                        host=pw.HOST, \n",
    "                        port=\"5432\")\n",
    "\n",
    "cur = conn.cursor()\n",
    "# open a file in the downloads folder\n",
    "with open('./youbike.csv', 'r') as f:\n",
    "    # Create a CSV reader\n",
    "    reader = csv.reader(f)\n",
    "    next(reader) # Skip the header row\n",
    "    for row in reader:\n",
    "        cur.execute(\"INSERT INTO 台北市youbike (站點名稱,行政區,更新時間,地址,總車輛數,可借,可還) VALUES (%s, %s, %s, %s, %s, %s, %s)\",row)\n",
    "    \n",
    "conn.commit()\n",
    "# cur.close()\n",
    "# conn.close()"
   ]
  }
 ],
 "metadata": {
  "kernelspec": {
   "display_name": "Python 3",
   "language": "python",
   "name": "python3"
  },
  "language_info": {
   "codemirror_mode": {
    "name": "ipython",
    "version": 3
   },
   "file_extension": ".py",
   "mimetype": "text/x-python",
   "name": "python",
   "nbconvert_exporter": "python",
   "pygments_lexer": "ipython3",
   "version": "3.11.5"
  }
 },
 "nbformat": 4,
 "nbformat_minor": 2
}
