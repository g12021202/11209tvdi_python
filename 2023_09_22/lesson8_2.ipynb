{
 "cells": [
  {
   "cell_type": "code",
   "execution_count": null,
   "metadata": {},
   "outputs": [],
   "source": [
    "# Nested Loops\n",
    "for i in range(1,10):\n",
    "    for j in range(1,10):\n",
    "        print(f\"{i}*{j}={i*j}\",end=\"  \")\n",
    "    print()"
   ]
  },
  {
   "cell_type": "code",
   "execution_count": null,
   "metadata": {},
   "outputs": [],
   "source": [
    "for i in range(1,10):\n",
    "    for j in range(1,10):\n",
    "        print(f\"{i:2}*{j:}={i*j:2}\",end=\"  \")\n",
    "    print()"
   ]
  },
  {
   "cell_type": "code",
   "execution_count": 3,
   "metadata": {},
   "outputs": [
    {
     "name": "stdout",
     "output_type": "stream",
     "text": [
      "1+2+3+...+10=55\n"
     ]
    }
   ],
   "source": [
    "n = 1\n",
    "total = 0 \n",
    "while n<= 10:\n",
    "    total += n\n",
    "    n += 1\n",
    "\n",
    "print(f\"1+2+3+...+10={total}\")"
   ]
  },
  {
   "cell_type": "code",
   "execution_count": 16,
   "metadata": {},
   "outputs": [
    {
     "name": "stdout",
     "output_type": "stream",
     "text": [
      "請輸入起始值:2\n",
      "請輸入結束值:10\n",
      "從 11 加到 10 ， 總共 54\n",
      "從 1 加到 10 ， 總共 54\n"
     ]
    }
   ],
   "source": [
    "import pyinputplus as pyip\n",
    "start = pyip.inputInt(prompt=\"請輸入起始值:\")\n",
    "print(start)\n",
    "end = pyip.inputInt(prompt=\"請輸入結束值:\")\n",
    "print(end)\n",
    "total = 0\n",
    "\n",
    "while start <= end:\n",
    "    total += start\n",
    "    start += 1\n",
    "\n",
    "print(f\"從 {start} 加到 {end} ， 總共 {total}\")\n",
    "print(f\"從 {start-end} 加到 {end} ， 總共 {total}\")"
   ]
  },
  {
   "cell_type": "code",
   "execution_count": 14,
   "metadata": {},
   "outputs": [
    {
     "name": "stdout",
     "output_type": "stream",
     "text": [
      "請輸入起始值:1\n",
      "請輸入結束值:3\n",
      "從 1 加到 3 ， 總共 0\n",
      "從 -2 加到 3 ， 總共 0\n"
     ]
    }
   ],
   "source": [
    "import pyinputplus as pyip\n",
    "start = pyip.inputInt(prompt=\"請輸入起始值:\")\n",
    "print(start)\n",
    "end = pyip.inputInt(prompt=\"請輸入結束值:\")\n",
    "print(end)\n",
    "total = 0\n",
    "s = start\n",
    "e = end\n",
    "while s <= e:\n",
    "    total += s\n",
    "    s += 1\n",
    "\n",
    "print(f\"從 {start} 加到 {end} ， 總共 {total}\")\n",
    "print(f\"從 {start-end} 加到 {end} ， 總共 {total}\")"
   ]
  },
  {
   "cell_type": "code",
   "execution_count": 5,
   "metadata": {},
   "outputs": [
    {
     "name": "stdout",
     "output_type": "stream",
     "text": [
      "1 2 5 "
     ]
    }
   ],
   "source": [
    "# list the facotrs\n",
    "m = int(input(\"Enter one number: \"))\n",
    "for i in range(1, m+1):\n",
    "    if m % i == 0:\n",
    "        print(i, end=\" \")"
   ]
  },
  {
   "cell_type": "code",
   "execution_count": null,
   "metadata": {},
   "outputs": [],
   "source": [
    "while True:\n",
    "    n=int(input())\n",
    "    if(n<=0):\n",
    "        break\n",
    "    else:\n",
    "        for i in range(1,n+1):\n",
    "            if(n%i==0):\n",
    "                print(i,end=\" \")\n",
    "    print(\"\")"
   ]
  },
  {
   "cell_type": "code",
   "execution_count": 29,
   "metadata": {},
   "outputs": [
    {
     "name": "stdout",
     "output_type": "stream",
     "text": [
      "enter two integers\n",
      "The following numbers are the commom factors of (10 and 15): \n",
      "1\n"
     ]
    }
   ],
   "source": [
    "print(\"enter two integers\")\n",
    "n = int(input(\"Enter first number: \"))\n",
    "m = int(input(\"Enter second number: \"))\n",
    "print(f\"The following numbers are the commom factors of ({n} and {m}): \")\n",
    "factor = 1\n",
    "\n",
    "if factor <= n and factor <=m:\n",
    "    if n % factor == 0 and m % factor == 0:\n",
    "            print(factor)\n",
    "            factor += 1\n"
   ]
  }
 ],
 "metadata": {
  "kernelspec": {
   "display_name": ".venv",
   "language": "python",
   "name": "python3"
  },
  "language_info": {
   "codemirror_mode": {
    "name": "ipython",
    "version": 3
   },
   "file_extension": ".py",
   "mimetype": "text/x-python",
   "name": "python",
   "nbconvert_exporter": "python",
   "pygments_lexer": "ipython3",
   "version": "3.10.8"
  },
  "orig_nbformat": 4
 },
 "nbformat": 4,
 "nbformat_minor": 2
}
