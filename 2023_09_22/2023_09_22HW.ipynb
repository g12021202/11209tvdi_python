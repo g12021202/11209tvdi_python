{
 "cells": [
  {
   "cell_type": "markdown",
   "metadata": {},
   "source": [
    "# 求所有因數"
   ]
  },
  {
   "cell_type": "code",
   "execution_count": 4,
   "metadata": {},
   "outputs": [
    {
     "name": "stdout",
     "output_type": "stream",
     "text": [
      "10 的因數:\n",
      "1 2 5 10 "
     ]
    }
   ],
   "source": [
    "num = int(input(\"請輸入整數，求所有因數:\"))\n",
    "print(num,\"的因數:\")\n",
    "for i in range(1, num + 1):\n",
    "    if num % i == 0:\n",
    "        print(i, end=\" \")"
   ]
  },
  {
   "cell_type": "markdown",
   "metadata": {},
   "source": [
    "# 求公因數"
   ]
  },
  {
   "cell_type": "code",
   "execution_count": 6,
   "metadata": {},
   "outputs": [
    {
     "name": "stdout",
     "output_type": "stream",
     "text": [
      "請輸入2數,求2數公因數:\n",
      "1 2 3 6 "
     ]
    }
   ],
   "source": [
    "print(\"請輸入2數,求2數公因數:\")\n",
    "n = int(input('請輸入第1個數'))\n",
    "m = int(input('請輸入第2個數'))\n",
    "for i in range(1, min(n, m) +1):\n",
    "    if n % i == 0 and m % i == 0:\n",
    "        print(i, end=\" \")"
   ]
  },
  {
   "cell_type": "markdown",
   "metadata": {},
   "source": [
    "# 2~100,每一個的質數"
   ]
  },
  {
   "cell_type": "code",
   "execution_count": 20,
   "metadata": {},
   "outputs": [
    {
     "name": "stdout",
     "output_type": "stream",
     "text": [
      "1到10的質數是:\n",
      "2\n",
      "3\n",
      "5\n",
      "7\n"
     ]
    }
   ],
   "source": [
    "end = int(input(\"請輸入end值:\"))\n",
    "print(f\"1到{end}的質數是:\")\n",
    "for i in range(2,end):\n",
    "    for j in range(2,i):\n",
    "        if (i%j==0):\n",
    "            break\n",
    "    else:\n",
    "        print(i)"
   ]
  },
  {
   "cell_type": "markdown",
   "metadata": {},
   "source": [
    "# 猜數字遊戲"
   ]
  },
  {
   "cell_type": "code",
   "execution_count": 25,
   "metadata": {},
   "outputs": [
    {
     "name": "stdout",
     "output_type": "stream",
     "text": [
      "===============猜數字遊戲=================:\n",
      "猜數字範圍1~100: 10\n",
      "再大一點\n",
      "猜數字範圍1~100: 10\n",
      "再大一點\n",
      "猜數字範圍1~100: 50\n",
      "再小一點\n",
      "猜數字範圍1~100: 25\n",
      "再大一點\n",
      "猜數字範圍1~100: 28\n",
      "再小一點\n",
      "猜數字範圍1~100: 27\n",
      "再小一點\n",
      "猜數字範圍1~100: 26\n",
      "您猜中了,答案是 26\n",
      "您總共猜了 6 次\n"
     ]
    }
   ],
   "source": [
    "import random\n",
    "min = 1\n",
    "max = 100\n",
    "count = 1\n",
    "\n",
    "target = random.randint(min, max)\n",
    "print(\"===============猜數字遊戲=================:\")\n",
    "\n",
    "while(True):\n",
    "    keyin = int(input(f\"猜數字範圍{min}~{max}\"))\n",
    "    print(f\"猜數字範圍{min}~{max}:\",keyin)\n",
    "    if keyin > target:\n",
    "        print(\"再小一點\")\n",
    "        keyin = int(input(f\"猜數字範圍{min}~{keyin}\"))\n",
    "        count += 1\n",
    "    elif keyin < target:\n",
    "        print(\"再大一點\")\n",
    "        keyin = int(input(f\"猜數字範圍{keyin}~{max}\"))\n",
    "        count += 1\n",
    "    else:\n",
    "        break\n",
    "print(\"您猜中了,答案是\",keyin)\n",
    "print(\"您總共猜了\",count,\"次\")\n"
   ]
  }
 ],
 "metadata": {
  "kernelspec": {
   "display_name": ".venv",
   "language": "python",
   "name": "python3"
  },
  "language_info": {
   "codemirror_mode": {
    "name": "ipython",
    "version": 3
   },
   "file_extension": ".py",
   "mimetype": "text/x-python",
   "name": "python",
   "nbconvert_exporter": "python",
   "pygments_lexer": "ipython3",
   "version": "3.10.8"
  },
  "orig_nbformat": 4
 },
 "nbformat": 4,
 "nbformat_minor": 2
}
