{
 "cells": [
  {
   "cell_type": "code",
   "execution_count": 11,
   "metadata": {},
   "outputs": [
    {
     "name": "stdout",
     "output_type": "stream",
     "text": [
      "Hello\n",
      "30\n",
      "30.0\n",
      "True\n"
     ]
    },
    {
     "data": {
      "text/plain": [
       "False"
      ]
     },
     "execution_count": 11,
     "metadata": {},
     "output_type": "execute_result"
    }
   ],
   "source": [
    "#build-in function -> print()\n",
    "print(\"Hello\") # str\n",
    "print(\"30\")  # int\n",
    "print(\"30.0\")  # float\n",
    "print(True)  # bool\n",
    "False  # bool"
   ]
  },
  {
   "cell_type": "code",
   "execution_count": 19,
   "metadata": {},
   "outputs": [
    {
     "name": "stdout",
     "output_type": "stream",
     "text": [
      "10\n",
      "7.0\n",
      "7.0\n",
      "Hello World\n",
      "5 World\n",
      "501\n",
      "14\n",
      "10\n",
      "14\n"
     ]
    }
   ],
   "source": [
    "#int + int\n",
    "print(5+5)\n",
    "\n",
    "#float +float\n",
    "print(5.0+2.0)\n",
    "\n",
    "#int + float\n",
    "#自動改變型別\n",
    "print(5+2.0)\n",
    "#5+2.0=5.0+2.0=7.0\n",
    "\n",
    "#str + str\n",
    "print('Hello'+' World')\n",
    "\n",
    "#str(int) + str\n",
    "#手動改變型別\n",
    "print(str(5)+' World')  # 將 5 轉 字串\n",
    "\n",
    "# int('world')\n",
    "# 字串 無法 變成 整數\n",
    "\n",
    "print(int('501'))\n",
    "\n",
    "#數學運算\n",
    "print(2 + 3 * 4)\n",
    "print(2*(1+2)**2-2**2*2)\n",
    "\n",
    "#建立變數\n",
    "n1 = 2 + 3 * 4\n",
    "print(n1)"
   ]
  }
 ],
 "metadata": {
  "kernelspec": {
   "display_name": ".venv",
   "language": "python",
   "name": "python3"
  },
  "language_info": {
   "codemirror_mode": {
    "name": "ipython",
    "version": 3
   },
   "file_extension": ".py",
   "mimetype": "text/x-python",
   "name": "python",
   "nbconvert_exporter": "python",
   "pygments_lexer": "ipython3",
   "version": "3.10.8"
  },
  "orig_nbformat": 4
 },
 "nbformat": 4,
 "nbformat_minor": 2
}
