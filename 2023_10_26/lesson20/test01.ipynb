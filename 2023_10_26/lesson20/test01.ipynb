{
 "cells": [
  {
   "cell_type": "code",
   "execution_count": null,
   "metadata": {},
   "outputs": [],
   "source": [
    "import time\n",
    "import threading\n",
    "\n",
    "def countdown(n:int)->None:\n",
    "    while n > 0 :\n",
    "        print(f'倒數計時:{n}')\n",
    "        n -= 1\n",
    "        time.sleep(5)\n",
    "\n",
    "t = threading.Thread(target=countdown, args=(10,))\n",
    "t.start()"
   ]
  },
  {
   "cell_type": "code",
   "execution_count": null,
   "metadata": {},
   "outputs": [],
   "source": [
    "from threading import Timer\n",
    "def countdown(n:int)->None:\n",
    "    if n > 0:\n",
    "        print(f'倒數計時:{n}')\n",
    "        t = Timer(1, countdown, arg=(n-1,))\n",
    "        t.start()\n",
    "\n",
    "countdown(n=10)"
   ]
  }
 ],
 "metadata": {
  "kernelspec": {
   "display_name": ".venv",
   "language": "python",
   "name": "python3"
  },
  "language_info": {
   "codemirror_mode": {
    "name": "ipython",
    "version": 3
   },
   "file_extension": ".py",
   "mimetype": "text/x-python",
   "name": "python",
   "nbconvert_exporter": "python",
   "pygments_lexer": "ipython3",
   "version": "3.11.4"
  }
 },
 "nbformat": 4,
 "nbformat_minor": 2
}
